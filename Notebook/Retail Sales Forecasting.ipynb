{
 "cells": [
  {
   "cell_type": "markdown",
   "metadata": {},
   "source": [
    "# Retail Sales Forecasting\n",
    "\n",
    "Retail Sales Forecasting generates 30 months of forward forecast of retail sales using historical data. This solution helps retailers to predict future sales and thereby optimize their inventory, logistics, warehouse management, production planning, personnel allocation, etc. It uses Prophet which is a procedure for forecasting time series data based on an additive model where non-linear trends are fit with yearly, weekly, and daily seasonality, plus holiday effects. It works best with time series that have strong seasonal effects and several seasons of historical data. Prophet is robust to missing data and shifts in the trend, and typically handles outliers well."
   ]
  },
  {
   "cell_type": "markdown",
   "metadata": {},
   "source": [
    "## Contents\n",
    "\n",
    "1. Prequisites\n",
    "1. Data Dictionary\n",
    "1. Import Libraries\n",
    "1. Sample Input Data\n",
    "1. Create Model\n",
    "1. Create Future Data\n",
    "1. Predict Future Datapoints\n",
    "1. Plot the DataFrame\n",
    "1. Saving Forecast"
   ]
  },
  {
   "cell_type": "markdown",
   "metadata": {},
   "source": [
    "### Prerequisites\n",
    "\n",
    "To run this algorithm you need to have install following packages:\n",
    "- \"pandas\" to read/save csv files.\n",
    "- \"pystan==2.19.1.1\"\n",
    "- \"prophet\" to forecast data.\n",
    "\n"
   ]
  },
  {
   "cell_type": "markdown",
   "metadata": {},
   "source": [
    "### Data Dictionary\n",
    "\n",
    "- The input has to be a '.csv' file with 'utf-8' encoding. PLEASE NOTE: If your input .csv file is not 'utf-8' encoded, model   will not perform as expected\n",
    "1. Have an unique identifier column called 'maskedsku'. eg. 'maskedsku' can be shipmentid\n",
    "2. The date format of the columns should be: 'YYYY-MM-DD'"
   ]
  },
  {
   "cell_type": "markdown",
   "metadata": {
    "tags": []
   },
   "source": [
    "## Import Libraries"
   ]
  },
  {
   "cell_type": "code",
   "execution_count": 2,
   "metadata": {},
   "outputs": [
    {
     "name": "stderr",
     "output_type": "stream",
     "text": [
      "Importing plotly failed. Interactive plots will not work.\n"
     ]
    }
   ],
   "source": [
    "import pandas as pd\n",
    "from prophet import Prophet"
   ]
  },
  {
   "cell_type": "markdown",
   "metadata": {},
   "source": [
    "### Sample input data"
   ]
  },
  {
   "cell_type": "code",
   "execution_count": 4,
   "metadata": {},
   "outputs": [
    {
     "data": {
      "text/html": [
       "<div>\n",
       "<style scoped>\n",
       "    .dataframe tbody tr th:only-of-type {\n",
       "        vertical-align: middle;\n",
       "    }\n",
       "\n",
       "    .dataframe tbody tr th {\n",
       "        vertical-align: top;\n",
       "    }\n",
       "\n",
       "    .dataframe thead th {\n",
       "        text-align: right;\n",
       "    }\n",
       "</style>\n",
       "<table border=\"1\" class=\"dataframe\">\n",
       "  <thead>\n",
       "    <tr style=\"text-align: right;\">\n",
       "      <th>maskedsku</th>\n",
       "      <th>product_1</th>\n",
       "    </tr>\n",
       "  </thead>\n",
       "  <tbody>\n",
       "    <tr>\n",
       "      <th>2018-08-01 12:00</th>\n",
       "      <td>13380.82192</td>\n",
       "    </tr>\n",
       "    <tr>\n",
       "      <th>2018-08-01 13:00</th>\n",
       "      <td>15244.93151</td>\n",
       "    </tr>\n",
       "    <tr>\n",
       "      <th>2018-08-01 14:00</th>\n",
       "      <td>14925.20548</td>\n",
       "    </tr>\n",
       "    <tr>\n",
       "      <th>2018-08-01 15:00</th>\n",
       "      <td>13585.97260</td>\n",
       "    </tr>\n",
       "    <tr>\n",
       "      <th>2018-08-01 16:00</th>\n",
       "      <td>11365.47945</td>\n",
       "    </tr>\n",
       "  </tbody>\n",
       "</table>\n",
       "</div>"
      ],
      "text/plain": [
       "maskedsku           product_1\n",
       "2018-08-01 12:00  13380.82192\n",
       "2018-08-01 13:00  15244.93151\n",
       "2018-08-01 14:00  14925.20548\n",
       "2018-08-01 15:00  13585.97260\n",
       "2018-08-01 16:00  11365.47945"
      ]
     },
     "execution_count": 4,
     "metadata": {},
     "output_type": "execute_result"
    }
   ],
   "source": [
    "# read the sample csv\n",
    "df = pd.read_csv(\"data/sample.csv\", index_col = [0])\n",
    "df.T.head()\n"
   ]
  },
  {
   "cell_type": "markdown",
   "metadata": {
    "tags": []
   },
   "source": [
    "### Transform the data"
   ]
  },
  {
   "cell_type": "code",
   "execution_count": 5,
   "metadata": {},
   "outputs": [
    {
     "data": {
      "text/html": [
       "<div>\n",
       "<style scoped>\n",
       "    .dataframe tbody tr th:only-of-type {\n",
       "        vertical-align: middle;\n",
       "    }\n",
       "\n",
       "    .dataframe tbody tr th {\n",
       "        vertical-align: top;\n",
       "    }\n",
       "\n",
       "    .dataframe thead th {\n",
       "        text-align: right;\n",
       "    }\n",
       "</style>\n",
       "<table border=\"1\" class=\"dataframe\">\n",
       "  <thead>\n",
       "    <tr style=\"text-align: right;\">\n",
       "      <th>maskedsku</th>\n",
       "      <th>ds</th>\n",
       "      <th>y</th>\n",
       "    </tr>\n",
       "  </thead>\n",
       "  <tbody>\n",
       "    <tr>\n",
       "      <th>0</th>\n",
       "      <td>2018-08-01 12:00</td>\n",
       "      <td>13380.82192</td>\n",
       "    </tr>\n",
       "    <tr>\n",
       "      <th>1</th>\n",
       "      <td>2018-08-01 13:00</td>\n",
       "      <td>15244.93151</td>\n",
       "    </tr>\n",
       "    <tr>\n",
       "      <th>2</th>\n",
       "      <td>2018-08-01 14:00</td>\n",
       "      <td>14925.20548</td>\n",
       "    </tr>\n",
       "    <tr>\n",
       "      <th>3</th>\n",
       "      <td>2018-08-01 15:00</td>\n",
       "      <td>13585.97260</td>\n",
       "    </tr>\n",
       "    <tr>\n",
       "      <th>4</th>\n",
       "      <td>2018-08-01 16:00</td>\n",
       "      <td>11365.47945</td>\n",
       "    </tr>\n",
       "  </tbody>\n",
       "</table>\n",
       "</div>"
      ],
      "text/plain": [
       "maskedsku                ds            y\n",
       "0          2018-08-01 12:00  13380.82192\n",
       "1          2018-08-01 13:00  15244.93151\n",
       "2          2018-08-01 14:00  14925.20548\n",
       "3          2018-08-01 15:00  13585.97260\n",
       "4          2018-08-01 16:00  11365.47945"
      ]
     },
     "execution_count": 5,
     "metadata": {},
     "output_type": "execute_result"
    }
   ],
   "source": [
    "# naming is required as per prophet conditions.\n",
    "df = df.T.copy().reset_index().rename(mapper={'index':'ds','product_1':'y'},axis = 1)\n",
    "df.head()"
   ]
  },
  {
   "cell_type": "markdown",
   "metadata": {
    "tags": []
   },
   "source": [
    "## Create Model\n",
    "\n",
    "Now we use the Prophet Package to create a model.\\\n",
    "Fit the model by instantiating a new Prophet object. Any settings to the forecasting procedure are passed into the constructor. Then you call its fit method and pass in the historical dataframe."
   ]
  },
  {
   "cell_type": "code",
   "execution_count": 6,
   "metadata": {},
   "outputs": [
    {
     "name": "stderr",
     "output_type": "stream",
     "text": [
      "05:32:42 - cmdstanpy - INFO - Chain [1] start processing\n",
      "05:32:42 - cmdstanpy - INFO - Chain [1] done processing\n"
     ]
    },
    {
     "data": {
      "text/plain": [
       "<prophet.forecaster.Prophet at 0x7f6d0c768160>"
      ]
     },
     "execution_count": 6,
     "metadata": {},
     "output_type": "execute_result"
    }
   ],
   "source": [
    "m = Prophet()\n",
    "m.fit(df)\n"
   ]
  },
  {
   "cell_type": "markdown",
   "metadata": {
    "tags": []
   },
   "source": [
    "## Create the future data\n",
    "\n",
    "Predictions are then made on a dataframe with a column ds containing the dates for which a prediction is to be made. You can get a suitable dataframe that extends into the future a specified number of days using the helper method Prophet.make_future_dataframe. By default it will also include the dates from the history, so we will see the model fit as well."
   ]
  },
  {
   "cell_type": "code",
   "execution_count": 7,
   "metadata": {},
   "outputs": [
    {
     "data": {
      "text/html": [
       "<div>\n",
       "<style scoped>\n",
       "    .dataframe tbody tr th:only-of-type {\n",
       "        vertical-align: middle;\n",
       "    }\n",
       "\n",
       "    .dataframe tbody tr th {\n",
       "        vertical-align: top;\n",
       "    }\n",
       "\n",
       "    .dataframe thead th {\n",
       "        text-align: right;\n",
       "    }\n",
       "</style>\n",
       "<table border=\"1\" class=\"dataframe\">\n",
       "  <thead>\n",
       "    <tr style=\"text-align: right;\">\n",
       "      <th></th>\n",
       "      <th>ds</th>\n",
       "    </tr>\n",
       "  </thead>\n",
       "  <tbody>\n",
       "    <tr>\n",
       "      <th>60</th>\n",
       "      <td>2018-08-28 22:00:00</td>\n",
       "    </tr>\n",
       "    <tr>\n",
       "      <th>61</th>\n",
       "      <td>2018-08-29 22:00:00</td>\n",
       "    </tr>\n",
       "    <tr>\n",
       "      <th>62</th>\n",
       "      <td>2018-08-30 22:00:00</td>\n",
       "    </tr>\n",
       "    <tr>\n",
       "      <th>63</th>\n",
       "      <td>2018-08-31 22:00:00</td>\n",
       "    </tr>\n",
       "    <tr>\n",
       "      <th>64</th>\n",
       "      <td>2018-09-01 22:00:00</td>\n",
       "    </tr>\n",
       "  </tbody>\n",
       "</table>\n",
       "</div>"
      ],
      "text/plain": [
       "                    ds\n",
       "60 2018-08-28 22:00:00\n",
       "61 2018-08-29 22:00:00\n",
       "62 2018-08-30 22:00:00\n",
       "63 2018-08-31 22:00:00\n",
       "64 2018-09-01 22:00:00"
      ]
     },
     "execution_count": 7,
     "metadata": {},
     "output_type": "execute_result"
    }
   ],
   "source": [
    "future = m.make_future_dataframe(periods=30)\n",
    "future.tail()"
   ]
  },
  {
   "cell_type": "markdown",
   "metadata": {
    "tags": []
   },
   "source": [
    "# Predict Future datapoints\n",
    "\n",
    "The predict method will assign each row in future a predicted value which it names yhat. If you pass in historical dates, it will provide an in-sample fit. The forecast object here is a new dataframe that includes a column yhat with the forecast, as well as columns for components and uncertainty intervals."
   ]
  },
  {
   "cell_type": "code",
   "execution_count": 8,
   "metadata": {},
   "outputs": [
    {
     "data": {
      "text/html": [
       "<div>\n",
       "<style scoped>\n",
       "    .dataframe tbody tr th:only-of-type {\n",
       "        vertical-align: middle;\n",
       "    }\n",
       "\n",
       "    .dataframe tbody tr th {\n",
       "        vertical-align: top;\n",
       "    }\n",
       "\n",
       "    .dataframe thead th {\n",
       "        text-align: right;\n",
       "    }\n",
       "</style>\n",
       "<table border=\"1\" class=\"dataframe\">\n",
       "  <thead>\n",
       "    <tr style=\"text-align: right;\">\n",
       "      <th></th>\n",
       "      <th>ds</th>\n",
       "      <th>yhat</th>\n",
       "      <th>yhat_lower</th>\n",
       "      <th>yhat_upper</th>\n",
       "    </tr>\n",
       "  </thead>\n",
       "  <tbody>\n",
       "    <tr>\n",
       "      <th>60</th>\n",
       "      <td>2018-08-28 22:00:00</td>\n",
       "      <td>57227.187241</td>\n",
       "      <td>53418.355688</td>\n",
       "      <td>61203.518357</td>\n",
       "    </tr>\n",
       "    <tr>\n",
       "      <th>61</th>\n",
       "      <td>2018-08-29 22:00:00</td>\n",
       "      <td>58790.093219</td>\n",
       "      <td>54928.711467</td>\n",
       "      <td>62778.510808</td>\n",
       "    </tr>\n",
       "    <tr>\n",
       "      <th>62</th>\n",
       "      <td>2018-08-30 22:00:00</td>\n",
       "      <td>60352.999197</td>\n",
       "      <td>56335.494069</td>\n",
       "      <td>63970.693351</td>\n",
       "    </tr>\n",
       "    <tr>\n",
       "      <th>63</th>\n",
       "      <td>2018-08-31 22:00:00</td>\n",
       "      <td>61915.905175</td>\n",
       "      <td>57931.502092</td>\n",
       "      <td>65751.780266</td>\n",
       "    </tr>\n",
       "    <tr>\n",
       "      <th>64</th>\n",
       "      <td>2018-09-01 22:00:00</td>\n",
       "      <td>63478.811153</td>\n",
       "      <td>59751.701830</td>\n",
       "      <td>67199.993787</td>\n",
       "    </tr>\n",
       "  </tbody>\n",
       "</table>\n",
       "</div>"
      ],
      "text/plain": [
       "                    ds          yhat    yhat_lower    yhat_upper\n",
       "60 2018-08-28 22:00:00  57227.187241  53418.355688  61203.518357\n",
       "61 2018-08-29 22:00:00  58790.093219  54928.711467  62778.510808\n",
       "62 2018-08-30 22:00:00  60352.999197  56335.494069  63970.693351\n",
       "63 2018-08-31 22:00:00  61915.905175  57931.502092  65751.780266\n",
       "64 2018-09-01 22:00:00  63478.811153  59751.701830  67199.993787"
      ]
     },
     "execution_count": 8,
     "metadata": {},
     "output_type": "execute_result"
    }
   ],
   "source": [
    "forecast = m.predict(future)\n",
    "forecast[['ds', 'yhat', 'yhat_lower', 'yhat_upper']].tail()"
   ]
  },
  {
   "cell_type": "markdown",
   "metadata": {
    "tags": []
   },
   "source": [
    "## Plot the forecast dataframe\n",
    "You can plot the forecast by calling the Prophet.plot method and passing in your forecast dataframe."
   ]
  },
  {
   "cell_type": "code",
   "execution_count": 9,
   "metadata": {},
   "outputs": [
    {
     "data": {
      "image/png": "[encoded data removed]",
      "text/plain": [
       "<Figure size 720x432 with 1 Axes>"
      ]
     },
     "metadata": {},
     "output_type": "display_data"
    }
   ],
   "source": [
    "# Python\n",
    "fig1 = m.plot(forecast)"
   ]
  },
  {
   "cell_type": "code",
   "execution_count": 10,
   "metadata": {},
   "outputs": [
    {
     "data": {
      "image/png": "[encoded data removed]",
      "text/plain": [
       "<Figure size 648x216 with 1 Axes>"
      ]
     },
     "metadata": {},
     "output_type": "display_data"
    }
   ],
   "source": [
    "# Python\n",
    "fig2 = m.plot_components(forecast)"
   ]
  },
  {
   "cell_type": "markdown",
   "metadata": {
    "tags": []
   },
   "source": [
    "## Saving Forecast"
   ]
  },
  {
   "cell_type": "code",
   "execution_count": 11,
   "metadata": {},
   "outputs": [],
   "source": [
    "forecast = forecast[['ds', 'yhat', 'yhat_lower', 'yhat_upper']]\n",
    "forecast.to_csv('output.csv',index=False)"
   ]
  },
  {
   "cell_type": "code",
   "execution_count": 12,
   "metadata": {},
   "outputs": [
    {
     "data": {
      "text/html": [
       "<div>\n",
       "<style scoped>\n",
       "    .dataframe tbody tr th:only-of-type {\n",
       "        vertical-align: middle;\n",
       "    }\n",
       "\n",
       "    .dataframe tbody tr th {\n",
       "        vertical-align: top;\n",
       "    }\n",
       "\n",
       "    .dataframe thead th {\n",
       "        text-align: right;\n",
       "    }\n",
       "</style>\n",
       "<table border=\"1\" class=\"dataframe\">\n",
       "  <thead>\n",
       "    <tr style=\"text-align: right;\">\n",
       "      <th></th>\n",
       "      <th>ds</th>\n",
       "      <th>yhat</th>\n",
       "      <th>yhat_lower</th>\n",
       "      <th>yhat_upper</th>\n",
       "    </tr>\n",
       "  </thead>\n",
       "  <tbody>\n",
       "    <tr>\n",
       "      <th>0</th>\n",
       "      <td>2018-08-01 12:00:00</td>\n",
       "      <td>14377.514886</td>\n",
       "      <td>10660.622908</td>\n",
       "      <td>18024.616981</td>\n",
       "    </tr>\n",
       "    <tr>\n",
       "      <th>1</th>\n",
       "      <td>2018-08-01 13:00:00</td>\n",
       "      <td>14442.635974</td>\n",
       "      <td>10386.277163</td>\n",
       "      <td>18306.871481</td>\n",
       "    </tr>\n",
       "    <tr>\n",
       "      <th>2</th>\n",
       "      <td>2018-08-01 14:00:00</td>\n",
       "      <td>14507.757063</td>\n",
       "      <td>10520.425992</td>\n",
       "      <td>18317.945406</td>\n",
       "    </tr>\n",
       "    <tr>\n",
       "      <th>3</th>\n",
       "      <td>2018-08-01 15:00:00</td>\n",
       "      <td>14572.878154</td>\n",
       "      <td>10603.673305</td>\n",
       "      <td>18235.558413</td>\n",
       "    </tr>\n",
       "    <tr>\n",
       "      <th>4</th>\n",
       "      <td>2018-08-01 16:00:00</td>\n",
       "      <td>14637.999243</td>\n",
       "      <td>10757.038732</td>\n",
       "      <td>18353.938454</td>\n",
       "    </tr>\n",
       "    <tr>\n",
       "      <th>...</th>\n",
       "      <td>...</td>\n",
       "      <td>...</td>\n",
       "      <td>...</td>\n",
       "      <td>...</td>\n",
       "    </tr>\n",
       "    <tr>\n",
       "      <th>60</th>\n",
       "      <td>2018-08-28 22:00:00</td>\n",
       "      <td>57227.187241</td>\n",
       "      <td>53418.355688</td>\n",
       "      <td>61203.518357</td>\n",
       "    </tr>\n",
       "    <tr>\n",
       "      <th>61</th>\n",
       "      <td>2018-08-29 22:00:00</td>\n",
       "      <td>58790.093219</td>\n",
       "      <td>54928.711467</td>\n",
       "      <td>62778.510808</td>\n",
       "    </tr>\n",
       "    <tr>\n",
       "      <th>62</th>\n",
       "      <td>2018-08-30 22:00:00</td>\n",
       "      <td>60352.999197</td>\n",
       "      <td>56335.494069</td>\n",
       "      <td>63970.693351</td>\n",
       "    </tr>\n",
       "    <tr>\n",
       "      <th>63</th>\n",
       "      <td>2018-08-31 22:00:00</td>\n",
       "      <td>61915.905175</td>\n",
       "      <td>57931.502092</td>\n",
       "      <td>65751.780266</td>\n",
       "    </tr>\n",
       "    <tr>\n",
       "      <th>64</th>\n",
       "      <td>2018-09-01 22:00:00</td>\n",
       "      <td>63478.811153</td>\n",
       "      <td>59751.701830</td>\n",
       "      <td>67199.993787</td>\n",
       "    </tr>\n",
       "  </tbody>\n",
       "</table>\n",
       "<p>65 rows × 4 columns</p>\n",
       "</div>"
      ],
      "text/plain": [
       "                    ds          yhat    yhat_lower    yhat_upper\n",
       "0  2018-08-01 12:00:00  14377.514886  10660.622908  18024.616981\n",
       "1  2018-08-01 13:00:00  14442.635974  10386.277163  18306.871481\n",
       "2  2018-08-01 14:00:00  14507.757063  10520.425992  18317.945406\n",
       "3  2018-08-01 15:00:00  14572.878154  10603.673305  18235.558413\n",
       "4  2018-08-01 16:00:00  14637.999243  10757.038732  18353.938454\n",
       "..                 ...           ...           ...           ...\n",
       "60 2018-08-28 22:00:00  57227.187241  53418.355688  61203.518357\n",
       "61 2018-08-29 22:00:00  58790.093219  54928.711467  62778.510808\n",
       "62 2018-08-30 22:00:00  60352.999197  56335.494069  63970.693351\n",
       "63 2018-08-31 22:00:00  61915.905175  57931.502092  65751.780266\n",
       "64 2018-09-01 22:00:00  63478.811153  59751.701830  67199.993787\n",
       "\n",
       "[65 rows x 4 columns]"
      ]
     },
     "execution_count": 12,
     "metadata": {},
     "output_type": "execute_result"
    }
   ],
   "source": [
    "forecast"
   ]
  },
  {
   "cell_type": "code",
   "execution_count": null,
   "metadata": {},
   "outputs": [],
   "source": []
  },
  {
   "cell_type": "code",
   "execution_count": null,
   "metadata": {},
   "outputs": [],
   "source": []
  }
 ],
 "metadata": {
  "kernelspec": {
   "display_name": "Python 3 (ipykernel)",
   "language": "python",
   "name": "python3"
  },
  "kubeflow_notebook": {
   "autosnapshot": false,
   "docker_image": "",
   "experiment": {
    "id": "",
    "name": ""
   },
   "experiment_name": "",
   "katib_metadata": {
    "algorithm": {
     "algorithmName": "grid"
    },
    "maxFailedTrialCount": 3,
    "maxTrialCount": 12,
    "objective": {
     "objectiveMetricName": "",
     "type": "minimize"
    },
    "parallelTrialCount": 3,
    "parameters": []
   },
   "katib_run": false,
   "pipeline_description": "",
   "pipeline_name": "",
   "snapshot_volumes": false,
   "steps_defaults": [],
   "volume_access_mode": "rwm",
   "volumes": []
  },
  "language_info": {
   "codemirror_mode": {
    "name": "ipython",
    "version": 3
   },
   "file_extension": ".py",
   "mimetype": "text/x-python",
   "name": "python",
   "nbconvert_exporter": "python",
   "pygments_lexer": "ipython3",
   "version": "3.9.7"
  }
 },
 "nbformat": 4,
 "nbformat_minor": 4
}
